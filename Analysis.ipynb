{
 "cells": [
  {
   "cell_type": "markdown",
   "metadata": {},
   "source": [
    "# Starbucks Marketing Campaign Project "
   ]
  },
  {
   "cell_type": "markdown",
   "metadata": {},
   "source": [
    "## Issue Definition"
   ]
  },
  {
   "cell_type": "markdown",
   "metadata": {},
   "source": [
    "determine which demographic groups respond best to which offer type"
   ]
  },
  {
   "cell_type": "markdown",
   "metadata": {},
   "source": [
    "## Data Exploration"
   ]
  },
  {
   "cell_type": "markdown",
   "metadata": {},
   "source": [
    "### Data Overview"
   ]
  },
  {
   "cell_type": "markdown",
   "metadata": {},
   "source": [
    "The data is contained in three files:\n",
    "\n",
    "* portfolio.json - containing offer ids and meta data about each offer (duration, type, etc.)\n",
    "* profile.json - demographic data for each customer\n",
    "* transcript.json - records for transactions, offers received, offers viewed, and offers completed\n",
    "\n",
    "Here is the schema and explanation of each variable in the files:\n",
    "\n",
    "**portfolio.json**\n",
    "* id (string) - offer id\n",
    "* offer_type (string) - type of offer ie BOGO, discount, informational\n",
    "* difficulty (int) - minimum required spend to complete an offer\n",
    "* reward (int) - reward given for completing an offer\n",
    "* duration (int) - time for offer to be open, in days\n",
    "* channels (list of strings)\n",
    "\n",
    "**profile.json**\n",
    "* age (int) - age of the customer \n",
    "* became_member_on (int) - date when customer created an app account\n",
    "* gender (str) - gender of the customer (note some entries contain 'O' for other rather than M or F)\n",
    "* id (str) - customer id\n",
    "* income (float) - customer's income\n",
    "\n",
    "**transcript.json**\n",
    "* event (str) - record description (ie transaction, offer received, offer viewed, etc.)\n",
    "* person (str) - customer id\n",
    "* time (int) - time in hours since start of test. The data begins at time t=0\n",
    "* value - (dict of strings) - either an offer id or transaction amount depending on the record"
   ]
  },
  {
   "cell_type": "code",
   "execution_count": 94,
   "metadata": {},
   "outputs": [],
   "source": [
    "# Load data\n",
    "\n",
    "import pandas as pd\n",
    "import numpy as np\n",
    "import math\n",
    "import json\n",
    "%matplotlib inline\n",
    "\n",
    "# read in the json files\n",
    "portfolio = pd.read_json('data/portfolio.json', orient='records', lines=True)\n",
    "profile = pd.read_json('data/profile.json', orient='records', lines=True)\n",
    "transcript = pd.read_json('data/transcript.json', orient='records', lines=True)"
   ]
  },
  {
   "cell_type": "markdown",
   "metadata": {},
   "source": [
    "### Univariate Analysis"
   ]
  },
  {
   "cell_type": "markdown",
   "metadata": {},
   "source": [
    "#### Portfolio.json"
   ]
  },
  {
   "cell_type": "code",
   "execution_count": 95,
   "metadata": {
    "scrolled": true
   },
   "outputs": [
    {
     "name": "stdout",
     "output_type": "stream",
     "text": [
      "portfolio\n",
      "(10, 6)\n",
      "   reward                      channels  difficulty  duration     offer_type  \\\n",
      "0      10       [email, mobile, social]          10         7           bogo   \n",
      "1      10  [web, email, mobile, social]          10         5           bogo   \n",
      "2       0          [web, email, mobile]           0         4  informational   \n",
      "3       5          [web, email, mobile]           5         7           bogo   \n",
      "4       5                  [web, email]          20        10       discount   \n",
      "5       3  [web, email, mobile, social]           7         7       discount   \n",
      "6       2  [web, email, mobile, social]          10        10       discount   \n",
      "7       0       [email, mobile, social]           0         3  informational   \n",
      "8       5  [web, email, mobile, social]           5         5           bogo   \n",
      "9       2          [web, email, mobile]          10         7       discount   \n",
      "\n",
      "                                 id  \n",
      "0  ae264e3637204a6fb9bb56bc8210ddfd  \n",
      "1  4d5c57ea9a6940dd891ad53e9dbe8da0  \n",
      "2  3f207df678b143eea3cee63160fa8bed  \n",
      "3  9b98b8c7a33c4b65b9aebfe6a799e6d9  \n",
      "4  0b1e1539f2cc45b7b9fa7c272da2e1d7  \n",
      "5  2298d6c36e964ae4a3e7e9706d1fb8c2  \n",
      "6  fafdcd668e3743c1bb461111dcafc2a4  \n",
      "7  5a8bc65990b245e5a138643cd4eb9837  \n",
      "8  f19421c1d4aa40978ebb69ca19b0e20d  \n",
      "9  2906b810c7d4411798c6938adc9daaa5  \n"
     ]
    }
   ],
   "source": [
    "print('portfolio')\n",
    "print(portfolio.shape)\n",
    "print(portfolio.head(10))"
   ]
  },
  {
   "cell_type": "code",
   "execution_count": 96,
   "metadata": {},
   "outputs": [],
   "source": [
    "portfolio['new_promo_id'] = portfolio.groupby('id').ngroup() "
   ]
  },
  {
   "cell_type": "code",
   "execution_count": 97,
   "metadata": {},
   "outputs": [],
   "source": [
    "portfolio['email'] = portfolio['channels'].apply(lambda x: True if 'email' in x else False)\n",
    "portfolio['mobile'] = portfolio['channels'].apply(lambda x: True if 'mobile' in x else False)\n",
    "portfolio['web'] = portfolio['channels'].apply(lambda x: True if 'web' in x else False)\n",
    "portfolio['social'] = portfolio['channels'].apply(lambda x: True if 'social' in x else False)\n",
    "portfolio['n_channel'] = portfolio['channels'].apply(lambda x: len(x))"
   ]
  },
  {
   "cell_type": "code",
   "execution_count": 185,
   "metadata": {},
   "outputs": [],
   "source": [
    "portfolio['bogo'] = portfolio['offer_type'].apply(lambda x: True if 'bogo' in x else False)\n",
    "portfolio['informational'] = portfolio['offer_type'].apply(lambda x: True if 'informational' in x else False)\n",
    "portfolio['discount'] = portfolio['offer_type'].apply(lambda x: True if 'discount' in x else False)"
   ]
  },
  {
   "cell_type": "code",
   "execution_count": 186,
   "metadata": {},
   "outputs": [
    {
     "data": {
      "text/html": [
       "<div>\n",
       "<style scoped>\n",
       "    .dataframe tbody tr th:only-of-type {\n",
       "        vertical-align: middle;\n",
       "    }\n",
       "\n",
       "    .dataframe tbody tr th {\n",
       "        vertical-align: top;\n",
       "    }\n",
       "\n",
       "    .dataframe thead th {\n",
       "        text-align: right;\n",
       "    }\n",
       "</style>\n",
       "<table border=\"1\" class=\"dataframe\">\n",
       "  <thead>\n",
       "    <tr style=\"text-align: right;\">\n",
       "      <th></th>\n",
       "      <th>reward</th>\n",
       "      <th>channels</th>\n",
       "      <th>difficulty</th>\n",
       "      <th>duration</th>\n",
       "      <th>offer_type</th>\n",
       "      <th>id</th>\n",
       "      <th>new_promo_id</th>\n",
       "      <th>email</th>\n",
       "      <th>mobile</th>\n",
       "      <th>web</th>\n",
       "      <th>social</th>\n",
       "      <th>n_channel</th>\n",
       "      <th>bogo</th>\n",
       "      <th>informational</th>\n",
       "      <th>discount</th>\n",
       "    </tr>\n",
       "  </thead>\n",
       "  <tbody>\n",
       "    <tr>\n",
       "      <th>0</th>\n",
       "      <td>10</td>\n",
       "      <td>[email, mobile, social]</td>\n",
       "      <td>10</td>\n",
       "      <td>7</td>\n",
       "      <td>bogo</td>\n",
       "      <td>ae264e3637204a6fb9bb56bc8210ddfd</td>\n",
       "      <td>7</td>\n",
       "      <td>True</td>\n",
       "      <td>True</td>\n",
       "      <td>False</td>\n",
       "      <td>True</td>\n",
       "      <td>3</td>\n",
       "      <td>True</td>\n",
       "      <td>False</td>\n",
       "      <td>False</td>\n",
       "    </tr>\n",
       "    <tr>\n",
       "      <th>1</th>\n",
       "      <td>10</td>\n",
       "      <td>[web, email, mobile, social]</td>\n",
       "      <td>10</td>\n",
       "      <td>5</td>\n",
       "      <td>bogo</td>\n",
       "      <td>4d5c57ea9a6940dd891ad53e9dbe8da0</td>\n",
       "      <td>4</td>\n",
       "      <td>True</td>\n",
       "      <td>True</td>\n",
       "      <td>True</td>\n",
       "      <td>True</td>\n",
       "      <td>4</td>\n",
       "      <td>True</td>\n",
       "      <td>False</td>\n",
       "      <td>False</td>\n",
       "    </tr>\n",
       "    <tr>\n",
       "      <th>2</th>\n",
       "      <td>0</td>\n",
       "      <td>[web, email, mobile]</td>\n",
       "      <td>0</td>\n",
       "      <td>4</td>\n",
       "      <td>informational</td>\n",
       "      <td>3f207df678b143eea3cee63160fa8bed</td>\n",
       "      <td>3</td>\n",
       "      <td>True</td>\n",
       "      <td>True</td>\n",
       "      <td>True</td>\n",
       "      <td>False</td>\n",
       "      <td>3</td>\n",
       "      <td>False</td>\n",
       "      <td>True</td>\n",
       "      <td>False</td>\n",
       "    </tr>\n",
       "    <tr>\n",
       "      <th>3</th>\n",
       "      <td>5</td>\n",
       "      <td>[web, email, mobile]</td>\n",
       "      <td>5</td>\n",
       "      <td>7</td>\n",
       "      <td>bogo</td>\n",
       "      <td>9b98b8c7a33c4b65b9aebfe6a799e6d9</td>\n",
       "      <td>6</td>\n",
       "      <td>True</td>\n",
       "      <td>True</td>\n",
       "      <td>True</td>\n",
       "      <td>False</td>\n",
       "      <td>3</td>\n",
       "      <td>True</td>\n",
       "      <td>False</td>\n",
       "      <td>False</td>\n",
       "    </tr>\n",
       "    <tr>\n",
       "      <th>4</th>\n",
       "      <td>5</td>\n",
       "      <td>[web, email]</td>\n",
       "      <td>20</td>\n",
       "      <td>10</td>\n",
       "      <td>discount</td>\n",
       "      <td>0b1e1539f2cc45b7b9fa7c272da2e1d7</td>\n",
       "      <td>0</td>\n",
       "      <td>True</td>\n",
       "      <td>False</td>\n",
       "      <td>True</td>\n",
       "      <td>False</td>\n",
       "      <td>2</td>\n",
       "      <td>False</td>\n",
       "      <td>False</td>\n",
       "      <td>True</td>\n",
       "    </tr>\n",
       "    <tr>\n",
       "      <th>5</th>\n",
       "      <td>3</td>\n",
       "      <td>[web, email, mobile, social]</td>\n",
       "      <td>7</td>\n",
       "      <td>7</td>\n",
       "      <td>discount</td>\n",
       "      <td>2298d6c36e964ae4a3e7e9706d1fb8c2</td>\n",
       "      <td>1</td>\n",
       "      <td>True</td>\n",
       "      <td>True</td>\n",
       "      <td>True</td>\n",
       "      <td>True</td>\n",
       "      <td>4</td>\n",
       "      <td>False</td>\n",
       "      <td>False</td>\n",
       "      <td>True</td>\n",
       "    </tr>\n",
       "    <tr>\n",
       "      <th>6</th>\n",
       "      <td>2</td>\n",
       "      <td>[web, email, mobile, social]</td>\n",
       "      <td>10</td>\n",
       "      <td>10</td>\n",
       "      <td>discount</td>\n",
       "      <td>fafdcd668e3743c1bb461111dcafc2a4</td>\n",
       "      <td>9</td>\n",
       "      <td>True</td>\n",
       "      <td>True</td>\n",
       "      <td>True</td>\n",
       "      <td>True</td>\n",
       "      <td>4</td>\n",
       "      <td>False</td>\n",
       "      <td>False</td>\n",
       "      <td>True</td>\n",
       "    </tr>\n",
       "    <tr>\n",
       "      <th>7</th>\n",
       "      <td>0</td>\n",
       "      <td>[email, mobile, social]</td>\n",
       "      <td>0</td>\n",
       "      <td>3</td>\n",
       "      <td>informational</td>\n",
       "      <td>5a8bc65990b245e5a138643cd4eb9837</td>\n",
       "      <td>5</td>\n",
       "      <td>True</td>\n",
       "      <td>True</td>\n",
       "      <td>False</td>\n",
       "      <td>True</td>\n",
       "      <td>3</td>\n",
       "      <td>False</td>\n",
       "      <td>True</td>\n",
       "      <td>False</td>\n",
       "    </tr>\n",
       "    <tr>\n",
       "      <th>8</th>\n",
       "      <td>5</td>\n",
       "      <td>[web, email, mobile, social]</td>\n",
       "      <td>5</td>\n",
       "      <td>5</td>\n",
       "      <td>bogo</td>\n",
       "      <td>f19421c1d4aa40978ebb69ca19b0e20d</td>\n",
       "      <td>8</td>\n",
       "      <td>True</td>\n",
       "      <td>True</td>\n",
       "      <td>True</td>\n",
       "      <td>True</td>\n",
       "      <td>4</td>\n",
       "      <td>True</td>\n",
       "      <td>False</td>\n",
       "      <td>False</td>\n",
       "    </tr>\n",
       "    <tr>\n",
       "      <th>9</th>\n",
       "      <td>2</td>\n",
       "      <td>[web, email, mobile]</td>\n",
       "      <td>10</td>\n",
       "      <td>7</td>\n",
       "      <td>discount</td>\n",
       "      <td>2906b810c7d4411798c6938adc9daaa5</td>\n",
       "      <td>2</td>\n",
       "      <td>True</td>\n",
       "      <td>True</td>\n",
       "      <td>True</td>\n",
       "      <td>False</td>\n",
       "      <td>3</td>\n",
       "      <td>False</td>\n",
       "      <td>False</td>\n",
       "      <td>True</td>\n",
       "    </tr>\n",
       "  </tbody>\n",
       "</table>\n",
       "</div>"
      ],
      "text/plain": [
       "   reward                      channels  difficulty  duration     offer_type  \\\n",
       "0      10       [email, mobile, social]          10         7           bogo   \n",
       "1      10  [web, email, mobile, social]          10         5           bogo   \n",
       "2       0          [web, email, mobile]           0         4  informational   \n",
       "3       5          [web, email, mobile]           5         7           bogo   \n",
       "4       5                  [web, email]          20        10       discount   \n",
       "5       3  [web, email, mobile, social]           7         7       discount   \n",
       "6       2  [web, email, mobile, social]          10        10       discount   \n",
       "7       0       [email, mobile, social]           0         3  informational   \n",
       "8       5  [web, email, mobile, social]           5         5           bogo   \n",
       "9       2          [web, email, mobile]          10         7       discount   \n",
       "\n",
       "                                 id  new_promo_id  email  mobile    web  \\\n",
       "0  ae264e3637204a6fb9bb56bc8210ddfd             7   True    True  False   \n",
       "1  4d5c57ea9a6940dd891ad53e9dbe8da0             4   True    True   True   \n",
       "2  3f207df678b143eea3cee63160fa8bed             3   True    True   True   \n",
       "3  9b98b8c7a33c4b65b9aebfe6a799e6d9             6   True    True   True   \n",
       "4  0b1e1539f2cc45b7b9fa7c272da2e1d7             0   True   False   True   \n",
       "5  2298d6c36e964ae4a3e7e9706d1fb8c2             1   True    True   True   \n",
       "6  fafdcd668e3743c1bb461111dcafc2a4             9   True    True   True   \n",
       "7  5a8bc65990b245e5a138643cd4eb9837             5   True    True  False   \n",
       "8  f19421c1d4aa40978ebb69ca19b0e20d             8   True    True   True   \n",
       "9  2906b810c7d4411798c6938adc9daaa5             2   True    True   True   \n",
       "\n",
       "   social  n_channel   bogo  informational  discount  \n",
       "0    True          3   True          False     False  \n",
       "1    True          4   True          False     False  \n",
       "2   False          3  False           True     False  \n",
       "3   False          3   True          False     False  \n",
       "4   False          2  False          False      True  \n",
       "5    True          4  False          False      True  \n",
       "6    True          4  False          False      True  \n",
       "7    True          3  False           True     False  \n",
       "8    True          4   True          False     False  \n",
       "9   False          3  False          False      True  "
      ]
     },
     "execution_count": 186,
     "metadata": {},
     "output_type": "execute_result"
    }
   ],
   "source": [
    "portfolio.head(10)"
   ]
  },
  {
   "cell_type": "code",
   "execution_count": null,
   "metadata": {},
   "outputs": [],
   "source": []
  },
  {
   "cell_type": "markdown",
   "metadata": {},
   "source": [
    "#### Profile.json"
   ]
  },
  {
   "cell_type": "code",
   "execution_count": 99,
   "metadata": {
    "scrolled": false
   },
   "outputs": [
    {
     "name": "stdout",
     "output_type": "stream",
     "text": [
      "profile\n",
      "(17000, 5)\n",
      "  gender  age                                id  became_member_on    income\n",
      "0   None  118  68be06ca386d4c31939f3a4f0e3dd783          20170212       NaN\n",
      "1      F   55  0610b486422d4921ae7d2bf64640c50b          20170715  112000.0\n",
      "2   None  118  38fe809add3b4fcf9315a9694bb96ff5          20180712       NaN\n",
      "3      F   75  78afa995795e4d85b5d9ceeca43f5fef          20170509  100000.0\n",
      "4   None  118  a03223e636434f42ac4c3df47e8bac43          20170804       NaN\n",
      "\n",
      "missing values\n",
      "gender              2175\n",
      "age                    0\n",
      "id                     0\n",
      "became_member_on       0\n",
      "income              2175\n",
      "dtype: int64\n",
      "gender              0.127941\n",
      "age                 0.000000\n",
      "id                  0.000000\n",
      "became_member_on    0.000000\n",
      "income              0.127941\n",
      "dtype: float64\n"
     ]
    }
   ],
   "source": [
    "print('profile')\n",
    "print(profile.shape)\n",
    "print(profile.head())\n",
    "print('\\nmissing values')\n",
    "print(profile.isna().sum())\n",
    "print(profile.isna().sum()/len(profile))"
   ]
  },
  {
   "cell_type": "markdown",
   "metadata": {},
   "source": [
    "Comment -> gender and income have missing value, and the numbers are the same. "
   ]
  },
  {
   "cell_type": "code",
   "execution_count": 100,
   "metadata": {
    "scrolled": true
   },
   "outputs": [
    {
     "data": {
      "text/plain": [
       "1"
      ]
     },
     "execution_count": 100,
     "metadata": {},
     "output_type": "execute_result"
    }
   ],
   "source": [
    "profile.groupby('id')['id'].count().max()"
   ]
  },
  {
   "cell_type": "markdown",
   "metadata": {},
   "source": [
    "comment -> no duplicate values in ID "
   ]
  },
  {
   "cell_type": "code",
   "execution_count": 101,
   "metadata": {},
   "outputs": [
    {
     "data": {
      "text/html": [
       "<div>\n",
       "<style scoped>\n",
       "    .dataframe tbody tr th:only-of-type {\n",
       "        vertical-align: middle;\n",
       "    }\n",
       "\n",
       "    .dataframe tbody tr th {\n",
       "        vertical-align: top;\n",
       "    }\n",
       "\n",
       "    .dataframe thead th {\n",
       "        text-align: right;\n",
       "    }\n",
       "</style>\n",
       "<table border=\"1\" class=\"dataframe\">\n",
       "  <thead>\n",
       "    <tr style=\"text-align: right;\">\n",
       "      <th></th>\n",
       "      <th>gender</th>\n",
       "      <th>age</th>\n",
       "      <th>id</th>\n",
       "      <th>became_member_on</th>\n",
       "      <th>income</th>\n",
       "      <th>new_user_id</th>\n",
       "    </tr>\n",
       "  </thead>\n",
       "  <tbody>\n",
       "    <tr>\n",
       "      <th>0</th>\n",
       "      <td>None</td>\n",
       "      <td>118</td>\n",
       "      <td>68be06ca386d4c31939f3a4f0e3dd783</td>\n",
       "      <td>20170212</td>\n",
       "      <td>NaN</td>\n",
       "      <td>6961</td>\n",
       "    </tr>\n",
       "    <tr>\n",
       "      <th>1</th>\n",
       "      <td>F</td>\n",
       "      <td>55</td>\n",
       "      <td>0610b486422d4921ae7d2bf64640c50b</td>\n",
       "      <td>20170715</td>\n",
       "      <td>112000.0</td>\n",
       "      <td>398</td>\n",
       "    </tr>\n",
       "    <tr>\n",
       "      <th>2</th>\n",
       "      <td>None</td>\n",
       "      <td>118</td>\n",
       "      <td>38fe809add3b4fcf9315a9694bb96ff5</td>\n",
       "      <td>20180712</td>\n",
       "      <td>NaN</td>\n",
       "      <td>3746</td>\n",
       "    </tr>\n",
       "    <tr>\n",
       "      <th>3</th>\n",
       "      <td>F</td>\n",
       "      <td>75</td>\n",
       "      <td>78afa995795e4d85b5d9ceeca43f5fef</td>\n",
       "      <td>20170509</td>\n",
       "      <td>100000.0</td>\n",
       "      <td>7996</td>\n",
       "    </tr>\n",
       "    <tr>\n",
       "      <th>4</th>\n",
       "      <td>None</td>\n",
       "      <td>118</td>\n",
       "      <td>a03223e636434f42ac4c3df47e8bac43</td>\n",
       "      <td>20170804</td>\n",
       "      <td>NaN</td>\n",
       "      <td>10735</td>\n",
       "    </tr>\n",
       "  </tbody>\n",
       "</table>\n",
       "</div>"
      ],
      "text/plain": [
       "  gender  age                                id  became_member_on    income  \\\n",
       "0   None  118  68be06ca386d4c31939f3a4f0e3dd783          20170212       NaN   \n",
       "1      F   55  0610b486422d4921ae7d2bf64640c50b          20170715  112000.0   \n",
       "2   None  118  38fe809add3b4fcf9315a9694bb96ff5          20180712       NaN   \n",
       "3      F   75  78afa995795e4d85b5d9ceeca43f5fef          20170509  100000.0   \n",
       "4   None  118  a03223e636434f42ac4c3df47e8bac43          20170804       NaN   \n",
       "\n",
       "   new_user_id  \n",
       "0         6961  \n",
       "1          398  \n",
       "2         3746  \n",
       "3         7996  \n",
       "4        10735  "
      ]
     },
     "execution_count": 101,
     "metadata": {},
     "output_type": "execute_result"
    }
   ],
   "source": [
    "profile['new_user_id'] = profile.groupby('id').ngroup() \n",
    "profile.head()"
   ]
  },
  {
   "cell_type": "code",
   "execution_count": 102,
   "metadata": {},
   "outputs": [
    {
     "data": {
      "text/plain": [
       "<matplotlib.axes._subplots.AxesSubplot at 0x2eeeea6c048>"
      ]
     },
     "execution_count": 102,
     "metadata": {},
     "output_type": "execute_result"
    },
    {
     "data": {
      "image/png": "[encoded data removed]",
      "text/plain": [
       "<Figure size 432x288 with 1 Axes>"
      ]
     },
     "metadata": {
      "needs_background": "light"
     },
     "output_type": "display_data"
    }
   ],
   "source": [
    "profile['gender'].hist()"
   ]
  },
  {
   "cell_type": "code",
   "execution_count": 103,
   "metadata": {
    "scrolled": false
   },
   "outputs": [
    {
     "data": {
      "text/plain": [
       "<matplotlib.axes._subplots.AxesSubplot at 0x2eed5201248>"
      ]
     },
     "execution_count": 103,
     "metadata": {},
     "output_type": "execute_result"
    },
    {
     "data": {
      "image/png": "[encoded data removed]",
      "text/plain": [
       "<Figure size 432x288 with 1 Axes>"
      ]
     },
     "metadata": {
      "needs_background": "light"
     },
     "output_type": "display_data"
    }
   ],
   "source": [
    "profile['age'].hist()"
   ]
  },
  {
   "cell_type": "markdown",
   "metadata": {},
   "source": [
    "comment -> there are strange ages over 100. Also they seem to be strongly linked with missing values of income and gender"
   ]
  },
  {
   "cell_type": "code",
   "execution_count": 104,
   "metadata": {
    "scrolled": true
   },
   "outputs": [
    {
     "data": {
      "text/plain": [
       "<matplotlib.axes._subplots.AxesSubplot at 0x2eed8edbb48>"
      ]
     },
     "execution_count": 104,
     "metadata": {},
     "output_type": "execute_result"
    },
    {
     "data": {
      "image/png": "[encoded data removed]",
      "text/plain": [
       "<Figure size 432x288 with 1 Axes>"
      ]
     },
     "metadata": {
      "needs_background": "light"
     },
     "output_type": "display_data"
    }
   ],
   "source": [
    "profile['income'].hist()"
   ]
  },
  {
   "cell_type": "code",
   "execution_count": 105,
   "metadata": {},
   "outputs": [
    {
     "data": {
      "text/plain": [
       "<matplotlib.axes._subplots.AxesSubplot at 0x2eeee924308>"
      ]
     },
     "execution_count": 105,
     "metadata": {},
     "output_type": "execute_result"
    },
    {
     "data": {
      "image/png": "[encoded data removed]",
      "text/plain": [
       "<Figure size 432x288 with 1 Axes>"
      ]
     },
     "metadata": {
      "needs_background": "light"
     },
     "output_type": "display_data"
    }
   ],
   "source": [
    "profile['became_member_on'].hist()"
   ]
  },
  {
   "cell_type": "markdown",
   "metadata": {},
   "source": [
    "#### Transcript.json"
   ]
  },
  {
   "cell_type": "code",
   "execution_count": 106,
   "metadata": {
    "scrolled": true
   },
   "outputs": [
    {
     "name": "stdout",
     "output_type": "stream",
     "text": [
      "transcript\n",
      "(306534, 4)\n",
      "                             person           event  \\\n",
      "0  78afa995795e4d85b5d9ceeca43f5fef  offer received   \n",
      "1  a03223e636434f42ac4c3df47e8bac43  offer received   \n",
      "2  e2127556f4f64592b11af22de27a7932  offer received   \n",
      "3  8ec6ce2a7e7949b1bf142def7d0e0586  offer received   \n",
      "4  68617ca6246f4fbc85e91a2a49552598  offer received   \n",
      "5  389bc3fa690240e798340f5a15918d5c  offer received   \n",
      "\n",
      "                                              value  time  \n",
      "0  {'offer id': '9b98b8c7a33c4b65b9aebfe6a799e6d9'}     0  \n",
      "1  {'offer id': '0b1e1539f2cc45b7b9fa7c272da2e1d7'}     0  \n",
      "2  {'offer id': '2906b810c7d4411798c6938adc9daaa5'}     0  \n",
      "3  {'offer id': 'fafdcd668e3743c1bb461111dcafc2a4'}     0  \n",
      "4  {'offer id': '4d5c57ea9a6940dd891ad53e9dbe8da0'}     0  \n",
      "5  {'offer id': 'f19421c1d4aa40978ebb69ca19b0e20d'}     0  \n",
      "\n",
      "missing values\n",
      "person    0\n",
      "event     0\n",
      "value     0\n",
      "time      0\n",
      "dtype: int64\n"
     ]
    }
   ],
   "source": [
    "print('transcript')\n",
    "print(transcript.shape)\n",
    "print(transcript.head(6))\n",
    "print('\\nmissing values')\n",
    "print(transcript.isna().sum())"
   ]
  },
  {
   "cell_type": "code",
   "execution_count": 107,
   "metadata": {
    "scrolled": true
   },
   "outputs": [
    {
     "data": {
      "text/plain": [
       "<matplotlib.axes._subplots.AxesSubplot at 0x2eeee7fbd08>"
      ]
     },
     "execution_count": 107,
     "metadata": {},
     "output_type": "execute_result"
    },
    {
     "data": {
      "image/png": "[encoded data removed]",
      "text/plain": [
       "<Figure size 432x288 with 1 Axes>"
      ]
     },
     "metadata": {
      "needs_background": "light"
     },
     "output_type": "display_data"
    }
   ],
   "source": [
    "transcript.groupby('person').count().reset_index()['event'].hist()"
   ]
  },
  {
   "cell_type": "code",
   "execution_count": 108,
   "metadata": {},
   "outputs": [
    {
     "data": {
      "text/plain": [
       "<matplotlib.axes._subplots.AxesSubplot at 0x2eeee74f0c8>"
      ]
     },
     "execution_count": 108,
     "metadata": {},
     "output_type": "execute_result"
    },
    {
     "data": {
      "image/png": "[encoded data removed]",
      "text/plain": [
       "<Figure size 432x288 with 1 Axes>"
      ]
     },
     "metadata": {
      "needs_background": "light"
     },
     "output_type": "display_data"
    }
   ],
   "source": [
    "transcript['event'].hist()"
   ]
  },
  {
   "cell_type": "code",
   "execution_count": 137,
   "metadata": {},
   "outputs": [],
   "source": [
    "transcript['offer_received'] = transcript['event'].apply(lambda x: True if 'offer received' in x else False)\n",
    "transcript['offer_viewed'] = transcript['event'].apply(lambda x: True if 'offer viewed' in x else False)\n",
    "transcript['transaction'] = transcript['event'].apply(lambda x: True if 'transaction' in x else False)\n",
    "transcript['offer_completed'] = transcript['event'].apply(lambda x: True if 'offer completed' in x else False)"
   ]
  },
  {
   "cell_type": "code",
   "execution_count": 145,
   "metadata": {},
   "outputs": [
    {
     "data": {
      "text/plain": [
       "138953"
      ]
     },
     "execution_count": 145,
     "metadata": {},
     "output_type": "execute_result"
    }
   ],
   "source": [
    "transcript['transaction'].sum()"
   ]
  },
  {
   "cell_type": "code",
   "execution_count": 138,
   "metadata": {},
   "outputs": [
    {
     "name": "stdout",
     "output_type": "stream",
     "text": [
      "                             person           event  \\\n",
      "0  78afa995795e4d85b5d9ceeca43f5fef  offer received   \n",
      "1  a03223e636434f42ac4c3df47e8bac43  offer received   \n",
      "2  e2127556f4f64592b11af22de27a7932  offer received   \n",
      "3  8ec6ce2a7e7949b1bf142def7d0e0586  offer received   \n",
      "4  68617ca6246f4fbc85e91a2a49552598  offer received   \n",
      "\n",
      "                                              value  time value_type  \\\n",
      "0  {'offer id': '9b98b8c7a33c4b65b9aebfe6a799e6d9'}     0   offer_id   \n",
      "1  {'offer id': '0b1e1539f2cc45b7b9fa7c272da2e1d7'}     0   offer_id   \n",
      "2  {'offer id': '2906b810c7d4411798c6938adc9daaa5'}     0   offer_id   \n",
      "3  {'offer id': 'fafdcd668e3743c1bb461111dcafc2a4'}     0   offer_id   \n",
      "4  {'offer id': '4d5c57ea9a6940dd891ad53e9dbe8da0'}     0   offer_id   \n",
      "\n",
      "                           offer_id  amount  amount_log  offer_received  \\\n",
      "0  9b98b8c7a33c4b65b9aebfe6a799e6d9     NaN         NaN            True   \n",
      "1  0b1e1539f2cc45b7b9fa7c272da2e1d7     NaN         NaN            True   \n",
      "2  2906b810c7d4411798c6938adc9daaa5     NaN         NaN            True   \n",
      "3  fafdcd668e3743c1bb461111dcafc2a4     NaN         NaN            True   \n",
      "4  4d5c57ea9a6940dd891ad53e9dbe8da0     NaN         NaN            True   \n",
      "\n",
      "   offer_viewed  transaction  offer_completed  \n",
      "0         False        False            False  \n",
      "1         False        False            False  \n",
      "2         False        False            False  \n",
      "3         False        False            False  \n",
      "4         False        False            False  \n"
     ]
    }
   ],
   "source": [
    "print(transcript.head())"
   ]
  },
  {
   "cell_type": "code",
   "execution_count": 109,
   "metadata": {
    "scrolled": false
   },
   "outputs": [
    {
     "data": {
      "text/plain": [
       "<matplotlib.axes._subplots.AxesSubplot at 0x2eeee695208>"
      ]
     },
     "execution_count": 109,
     "metadata": {},
     "output_type": "execute_result"
    },
    {
     "data": {
      "image/png": "[encoded data removed]",
      "text/plain": [
       "<Figure size 432x288 with 1 Axes>"
      ]
     },
     "metadata": {
      "needs_background": "light"
     },
     "output_type": "display_data"
    }
   ],
   "source": [
    "transcript['time'].hist(bins=100)"
   ]
  },
  {
   "cell_type": "code",
   "execution_count": null,
   "metadata": {},
   "outputs": [],
   "source": []
  },
  {
   "cell_type": "code",
   "execution_count": 128,
   "metadata": {
    "scrolled": true
   },
   "outputs": [
    {
     "data": {
      "text/plain": [
       "<matplotlib.axes._subplots.AxesSubplot at 0x2eeee1d0d08>"
      ]
     },
     "execution_count": 128,
     "metadata": {},
     "output_type": "execute_result"
    },
    {
     "data": {
      "image/png": "[encoded data removed]",
      "text/plain": [
       "<Figure size 432x288 with 1 Axes>"
      ]
     },
     "metadata": {
      "needs_background": "light"
     },
     "output_type": "display_data"
    }
   ],
   "source": [
    "transcript[transcript['event']=='offer received']['time'].hist(bins=100)"
   ]
  },
  {
   "cell_type": "code",
   "execution_count": 129,
   "metadata": {
    "scrolled": true
   },
   "outputs": [
    {
     "data": {
      "text/plain": [
       "<matplotlib.axes._subplots.AxesSubplot at 0x2eeee0bf148>"
      ]
     },
     "execution_count": 129,
     "metadata": {},
     "output_type": "execute_result"
    },
    {
     "data": {
      "image/png": "[encoded data removed]",
      "text/plain": [
       "<Figure size 432x288 with 1 Axes>"
      ]
     },
     "metadata": {
      "needs_background": "light"
     },
     "output_type": "display_data"
    }
   ],
   "source": [
    "transcript[transcript['event']=='offer viewed']['time'].hist(bins=100)"
   ]
  },
  {
   "cell_type": "code",
   "execution_count": 130,
   "metadata": {
    "scrolled": true
   },
   "outputs": [
    {
     "data": {
      "text/plain": [
       "<matplotlib.axes._subplots.AxesSubplot at 0x2eed8edb708>"
      ]
     },
     "execution_count": 130,
     "metadata": {},
     "output_type": "execute_result"
    },
    {
     "data": {
      "image/png": "[encoded data removed]",
      "text/plain": [
       "<Figure size 432x288 with 1 Axes>"
      ]
     },
     "metadata": {
      "needs_background": "light"
     },
     "output_type": "display_data"
    }
   ],
   "source": [
    "transcript[transcript['event']=='offer completed']['time'].hist(bins=100)"
   ]
  },
  {
   "cell_type": "code",
   "execution_count": 131,
   "metadata": {},
   "outputs": [
    {
     "data": {
      "text/plain": [
       "<matplotlib.axes._subplots.AxesSubplot at 0x2eeedd7ad08>"
      ]
     },
     "execution_count": 131,
     "metadata": {},
     "output_type": "execute_result"
    },
    {
     "data": {
      "image/png": "[encoded data removed]",
      "text/plain": [
       "<Figure size 432x288 with 1 Axes>"
      ]
     },
     "metadata": {
      "needs_background": "light"
     },
     "output_type": "display_data"
    }
   ],
   "source": [
    "transcript[transcript['event']=='transaction']['time'].hist(bins=100)"
   ]
  },
  {
   "cell_type": "code",
   "execution_count": 110,
   "metadata": {},
   "outputs": [],
   "source": [
    "transcript['value_type'] = transcript['value'].apply(lambda x: list(x.keys())[0])\n",
    "transcript['value_type'] = transcript['value_type'].apply(lambda x: 'offer_id' if x == 'offer id' else x)"
   ]
  },
  {
   "cell_type": "code",
   "execution_count": 111,
   "metadata": {
    "scrolled": true
   },
   "outputs": [
    {
     "data": {
      "text/plain": [
       "<matplotlib.axes._subplots.AxesSubplot at 0x2eeee510ec8>"
      ]
     },
     "execution_count": 111,
     "metadata": {},
     "output_type": "execute_result"
    },
    {
     "data": {
      "image/png": "[encoded data removed]",
      "text/plain": [
       "<Figure size 432x288 with 1 Axes>"
      ]
     },
     "metadata": {
      "needs_background": "light"
     },
     "output_type": "display_data"
    }
   ],
   "source": [
    "transcript['value_type'].hist()"
   ]
  },
  {
   "cell_type": "code",
   "execution_count": 112,
   "metadata": {},
   "outputs": [],
   "source": [
    "transcript['offer_id'] = transcript['value'].apply(lambda x: list(x.values())[0] if list(x.keys())[0] == 'offer_id' or list(x.keys())[0] == 'offer id' else None )"
   ]
  },
  {
   "cell_type": "code",
   "execution_count": 113,
   "metadata": {},
   "outputs": [
    {
     "data": {
      "text/plain": [
       "<matplotlib.axes._subplots.AxesSubplot at 0x2eeee4a4648>"
      ]
     },
     "execution_count": 113,
     "metadata": {},
     "output_type": "execute_result"
    },
    {
     "data": {
      "image/png": "[encoded data removed]",
      "text/plain": [
       "<Figure size 432x288 with 1 Axes>"
      ]
     },
     "metadata": {
      "needs_background": "light"
     },
     "output_type": "display_data"
    }
   ],
   "source": [
    "transcript['offer_id'].hist()"
   ]
  },
  {
   "cell_type": "code",
   "execution_count": 114,
   "metadata": {},
   "outputs": [],
   "source": [
    "transcript['offer_id'] = transcript['value'].apply(lambda x: list(x.values())[0] if list(x.keys())[0] == 'offer_id' or list(x.keys())[0] == 'offer id' else None )"
   ]
  },
  {
   "cell_type": "code",
   "execution_count": 115,
   "metadata": {},
   "outputs": [],
   "source": [
    "transcript['amount'] = transcript['value'].apply(lambda x: list(x.values())[0] if list(x.keys())[0] == 'amount' else None )"
   ]
  },
  {
   "cell_type": "code",
   "execution_count": 116,
   "metadata": {},
   "outputs": [
    {
     "data": {
      "text/plain": [
       "<matplotlib.axes._subplots.AxesSubplot at 0x2eeee40de08>"
      ]
     },
     "execution_count": 116,
     "metadata": {},
     "output_type": "execute_result"
    },
    {
     "data": {
      "image/png": "[encoded data removed]",
      "text/plain": [
       "<Figure size 432x288 with 1 Axes>"
      ]
     },
     "metadata": {
      "needs_background": "light"
     },
     "output_type": "display_data"
    }
   ],
   "source": [
    "transcript['amount_log'] = np.log(transcript['amount'])\n",
    "transcript['amount_log'].hist()"
   ]
  },
  {
   "cell_type": "code",
   "execution_count": 154,
   "metadata": {},
   "outputs": [
    {
     "name": "stdout",
     "output_type": "stream",
     "text": [
      "                             person           event  \\\n",
      "0  78afa995795e4d85b5d9ceeca43f5fef  offer received   \n",
      "1  a03223e636434f42ac4c3df47e8bac43  offer received   \n",
      "2  e2127556f4f64592b11af22de27a7932  offer received   \n",
      "3  8ec6ce2a7e7949b1bf142def7d0e0586  offer received   \n",
      "4  68617ca6246f4fbc85e91a2a49552598  offer received   \n",
      "\n",
      "                                              value  time value_type  \\\n",
      "0  {'offer id': '9b98b8c7a33c4b65b9aebfe6a799e6d9'}     0   offer_id   \n",
      "1  {'offer id': '0b1e1539f2cc45b7b9fa7c272da2e1d7'}     0   offer_id   \n",
      "2  {'offer id': '2906b810c7d4411798c6938adc9daaa5'}     0   offer_id   \n",
      "3  {'offer id': 'fafdcd668e3743c1bb461111dcafc2a4'}     0   offer_id   \n",
      "4  {'offer id': '4d5c57ea9a6940dd891ad53e9dbe8da0'}     0   offer_id   \n",
      "\n",
      "                           offer_id  amount  amount_log  offer_received  \\\n",
      "0  9b98b8c7a33c4b65b9aebfe6a799e6d9     NaN         NaN            True   \n",
      "1  0b1e1539f2cc45b7b9fa7c272da2e1d7     NaN         NaN            True   \n",
      "2  2906b810c7d4411798c6938adc9daaa5     NaN         NaN            True   \n",
      "3  fafdcd668e3743c1bb461111dcafc2a4     NaN         NaN            True   \n",
      "4  4d5c57ea9a6940dd891ad53e9dbe8da0     NaN         NaN            True   \n",
      "\n",
      "   offer_viewed  transaction  offer_completed  \n",
      "0         False        False            False  \n",
      "1         False        False            False  \n",
      "2         False        False            False  \n",
      "3         False        False            False  \n",
      "4         False        False            False  \n",
      "                                 person        event  \\\n",
      "12654  02c083884c7d45b39cc68e1314fec56c  transaction   \n",
      "12657  9fa9ae8f57894cc9a3b8a9bbe0fc1b2f  transaction   \n",
      "12659  54890f68699049c2a04d415abc25e717  transaction   \n",
      "12670  b2f1cd155b864803ad8334cdf13c4bd2  transaction   \n",
      "12671  fe97aa22dd3e48c8b143116a8403dd52  transaction   \n",
      "\n",
      "                                value  time value_type offer_id  amount  \\\n",
      "12654  {'amount': 0.8300000000000001}     0     amount     None    0.83   \n",
      "12657               {'amount': 34.56}     0     amount     None   34.56   \n",
      "12659               {'amount': 13.23}     0     amount     None   13.23   \n",
      "12670               {'amount': 19.51}     0     amount     None   19.51   \n",
      "12671               {'amount': 18.97}     0     amount     None   18.97   \n",
      "\n",
      "       amount_log  offer_received  offer_viewed  transaction  offer_completed  \n",
      "12654   -0.186330           False         False         True            False  \n",
      "12657    3.542697           False         False         True            False  \n",
      "12659    2.582487           False         False         True            False  \n",
      "12670    2.970927           False         False         True            False  \n",
      "12671    2.942859           False         False         True            False  \n"
     ]
    }
   ],
   "source": [
    "print(transcript.head())\n",
    "print(transcript[transcript['transaction']].head())"
   ]
  },
  {
   "cell_type": "code",
   "execution_count": 149,
   "metadata": {},
   "outputs": [
    {
     "name": "stdout",
     "output_type": "stream",
     "text": [
      "138953\n"
     ]
    }
   ],
   "source": [
    "print(transcript['transaction'].sum())"
   ]
  },
  {
   "cell_type": "markdown",
   "metadata": {},
   "source": [
    "### Cross Dimensional Analysis"
   ]
  },
  {
   "cell_type": "code",
   "execution_count": 127,
   "metadata": {
    "scrolled": false
   },
   "outputs": [
    {
     "name": "stdout",
     "output_type": "stream",
     "text": [
      "                 event  time value_type  amount  amount_log  reward  \\\n",
      "0       offer received     0   offer_id     NaN         NaN     5.0   \n",
      "1       offer received     0   offer_id     NaN         NaN     5.0   \n",
      "2       offer received     0   offer_id     NaN         NaN     2.0   \n",
      "3       offer received     0   offer_id     NaN         NaN     2.0   \n",
      "4       offer received     0   offer_id     NaN         NaN    10.0   \n",
      "...                ...   ...        ...     ...         ...     ...   \n",
      "306529     transaction   714     amount    1.59    0.463734     NaN   \n",
      "306530     transaction   714     amount    9.53    2.254445     NaN   \n",
      "306531     transaction   714     amount    3.61    1.283708     NaN   \n",
      "306532     transaction   714     amount    3.53    1.261298     NaN   \n",
      "306533     transaction   714     amount    4.05    1.398717     NaN   \n",
      "\n",
      "                            channels  difficulty  duration offer_type  ...  \\\n",
      "0               [web, email, mobile]         5.0       7.0       bogo  ...   \n",
      "1                       [web, email]        20.0      10.0   discount  ...   \n",
      "2               [web, email, mobile]        10.0       7.0   discount  ...   \n",
      "3       [web, email, mobile, social]        10.0      10.0   discount  ...   \n",
      "4       [web, email, mobile, social]        10.0       5.0       bogo  ...   \n",
      "...                              ...         ...       ...        ...  ...   \n",
      "306529                           NaN         NaN       NaN        NaN  ...   \n",
      "306530                           NaN         NaN       NaN        NaN  ...   \n",
      "306531                           NaN         NaN       NaN        NaN  ...   \n",
      "306532                           NaN         NaN       NaN        NaN  ...   \n",
      "306533                           NaN         NaN       NaN        NaN  ...   \n",
      "\n",
      "        email mobile   web social n_channel  gender  age  became_member_on  \\\n",
      "0        True   True  True  False       3.0       F   75          20170509   \n",
      "1        True  False  True  False       2.0    None  118          20170804   \n",
      "2        True   True  True  False       3.0       M   68          20180426   \n",
      "3        True   True  True   True       4.0    None  118          20170925   \n",
      "4        True   True  True   True       4.0    None  118          20171002   \n",
      "...       ...    ...   ...    ...       ...     ...  ...               ...   \n",
      "306529    NaN    NaN   NaN    NaN       NaN       M   66          20180101   \n",
      "306530    NaN    NaN   NaN    NaN       NaN       M   52          20180408   \n",
      "306531    NaN    NaN   NaN    NaN       NaN       F   63          20130922   \n",
      "306532    NaN    NaN   NaN    NaN       NaN       M   57          20160709   \n",
      "306533    NaN    NaN   NaN    NaN       NaN    None  118          20151211   \n",
      "\n",
      "          income  new_user_id  \n",
      "0       100000.0         7996  \n",
      "1            NaN        10735  \n",
      "2        70000.0        15043  \n",
      "3            NaN         9524  \n",
      "4            NaN         6939  \n",
      "...          ...          ...  \n",
      "306529   47000.0        12027  \n",
      "306530   62000.0         6913  \n",
      "306531   52000.0        10722  \n",
      "306532   40000.0         7881  \n",
      "306533       NaN        12847  \n",
      "\n",
      "[306534 rows x 21 columns]\n"
     ]
    }
   ],
   "source": [
    "integ_clean = integ.drop('offer_id', axis=1).drop('person', axis=1).drop('value', axis=1)\n",
    "print(integ_clean)"
   ]
  },
  {
   "cell_type": "markdown",
   "metadata": {},
   "source": [
    "##### Response Ratio Analysis"
   ]
  },
  {
   "cell_type": "code",
   "execution_count": 166,
   "metadata": {
    "scrolled": true
   },
   "outputs": [
    {
     "name": "stderr",
     "output_type": "stream",
     "text": [
      "C:\\Users\\livel\\Miniconda3\\lib\\site-packages\\ipykernel_launcher.py:1: FutureWarning: Indexing with multiple keys (implicitly converted to a tuple of keys) will be deprecated, use a list instead.\n",
      "  \"\"\"Entry point for launching an IPython kernel.\n"
     ]
    },
    {
     "name": "stdout",
     "output_type": "stream",
     "text": [
      "                           offer_id                            person  \\\n",
      "0  0b1e1539f2cc45b7b9fa7c272da2e1d7  0011e0d4e6b944f998e987f904e8c1e5   \n",
      "1  0b1e1539f2cc45b7b9fa7c272da2e1d7  003d66b6608740288d6cc97a6903f4f0   \n",
      "2  0b1e1539f2cc45b7b9fa7c272da2e1d7  00426fe3ffde4c6b9cb9ad6d077a13ea   \n",
      "3  0b1e1539f2cc45b7b9fa7c272da2e1d7  0056df74b63b4298809f0b375a304cf4   \n",
      "4  0b1e1539f2cc45b7b9fa7c272da2e1d7  0063def0f9c14bc4805322a488839b32   \n",
      "5  0b1e1539f2cc45b7b9fa7c272da2e1d7  0069a50874d846438e58acff5e594725   \n",
      "6  0b1e1539f2cc45b7b9fa7c272da2e1d7  00715b6e55c3431cb56ff7307eb19675   \n",
      "7  0b1e1539f2cc45b7b9fa7c272da2e1d7  00840a2ca5d2408e982d56544dc14ffd   \n",
      "8  0b1e1539f2cc45b7b9fa7c272da2e1d7  00857b24b13f4fe0ad17b605f00357f5   \n",
      "9  0b1e1539f2cc45b7b9fa7c272da2e1d7  0091d2b6a5ea4defaa8393e4e816db60   \n",
      "\n",
      "   offer_received  offer_viewed  offer_completed  \n",
      "0             1.0           1.0              1.0  \n",
      "1             1.0           0.0              1.0  \n",
      "2             1.0           0.0              0.0  \n",
      "3             1.0           0.0              1.0  \n",
      "4             1.0           1.0              0.0  \n",
      "5             1.0           0.0              0.0  \n",
      "6             2.0           1.0              2.0  \n",
      "7             1.0           0.0              0.0  \n",
      "8             1.0           0.0              0.0  \n",
      "9             1.0           1.0              1.0  \n"
     ]
    }
   ],
   "source": [
    "respo = transcript.groupby(['offer_id', 'person'])['offer_received', 'offer_viewed', 'offer_completed'].sum().reset_index()\n",
    "print(respo.head(10))"
   ]
  },
  {
   "cell_type": "code",
   "execution_count": 173,
   "metadata": {
    "scrolled": true
   },
   "outputs": [
    {
     "name": "stdout",
     "output_type": "stream",
     "text": [
      "                           offer_id  offer_received  offer_viewed  \\\n",
      "0  0b1e1539f2cc45b7b9fa7c272da2e1d7          7668.0        2663.0   \n",
      "1  2298d6c36e964ae4a3e7e9706d1fb8c2          7646.0        7337.0   \n",
      "2  2906b810c7d4411798c6938adc9daaa5          7632.0        4118.0   \n",
      "3  3f207df678b143eea3cee63160fa8bed          7617.0        4144.0   \n",
      "4  4d5c57ea9a6940dd891ad53e9dbe8da0          7593.0        7298.0   \n",
      "5  5a8bc65990b245e5a138643cd4eb9837          7618.0        6687.0   \n",
      "6  9b98b8c7a33c4b65b9aebfe6a799e6d9          7677.0        4171.0   \n",
      "7  ae264e3637204a6fb9bb56bc8210ddfd          7658.0        6716.0   \n",
      "8  f19421c1d4aa40978ebb69ca19b0e20d          7571.0        7264.0   \n",
      "9  fafdcd668e3743c1bb461111dcafc2a4          7597.0        7327.0   \n",
      "\n",
      "   offer_completed  \n",
      "0           3420.0  \n",
      "1           5156.0  \n",
      "2           4017.0  \n",
      "3              0.0  \n",
      "4           3331.0  \n",
      "5              0.0  \n",
      "6           4354.0  \n",
      "7           3688.0  \n",
      "8           4296.0  \n",
      "9           5317.0  \n"
     ]
    }
   ],
   "source": [
    "aggri_offer = respo.groupby('offer_id').sum().reset_index()\n",
    "print(aggri_offer)"
   ]
  },
  {
   "cell_type": "code",
   "execution_count": 174,
   "metadata": {},
   "outputs": [
    {
     "name": "stdout",
     "output_type": "stream",
     "text": [
      "   offer_received  offer_viewed  offer_completed  reward  \\\n",
      "0          7668.0        2663.0           3420.0       5   \n",
      "1          7646.0        7337.0           5156.0       3   \n",
      "2          7632.0        4118.0           4017.0       2   \n",
      "3          7617.0        4144.0              0.0       0   \n",
      "4          7593.0        7298.0           3331.0      10   \n",
      "\n",
      "                       channels  difficulty  duration     offer_type  \\\n",
      "0                  [web, email]          20        10       discount   \n",
      "1  [web, email, mobile, social]           7         7       discount   \n",
      "2          [web, email, mobile]          10         7       discount   \n",
      "3          [web, email, mobile]           0         4  informational   \n",
      "4  [web, email, mobile, social]          10         5           bogo   \n",
      "\n",
      "   new_promo_id  email  mobile   web  social  n_channel  \n",
      "0             0   True   False  True   False          2  \n",
      "1             1   True    True  True    True          4  \n",
      "2             2   True    True  True   False          3  \n",
      "3             3   True    True  True   False          3  \n",
      "4             4   True    True  True    True          4  \n"
     ]
    }
   ],
   "source": [
    "aggri_offer = aggri_offer.join(portfolio.set_index('id'), on='offer_id').drop('offer_id', axis=1)\n",
    "print(aggri_offer.head())"
   ]
  },
  {
   "cell_type": "code",
   "execution_count": 178,
   "metadata": {
    "scrolled": false
   },
   "outputs": [],
   "source": [
    "aggri_offer['view_rate'] = aggri_offer['offer_viewed'] / aggri_offer['offer_received']"
   ]
  },
  {
   "cell_type": "code",
   "execution_count": 179,
   "metadata": {},
   "outputs": [
    {
     "data": {
      "text/html": [
       "<div>\n",
       "<style scoped>\n",
       "    .dataframe tbody tr th:only-of-type {\n",
       "        vertical-align: middle;\n",
       "    }\n",
       "\n",
       "    .dataframe tbody tr th {\n",
       "        vertical-align: top;\n",
       "    }\n",
       "\n",
       "    .dataframe thead th {\n",
       "        text-align: right;\n",
       "    }\n",
       "</style>\n",
       "<table border=\"1\" class=\"dataframe\">\n",
       "  <thead>\n",
       "    <tr style=\"text-align: right;\">\n",
       "      <th></th>\n",
       "      <th>offer_received</th>\n",
       "      <th>offer_viewed</th>\n",
       "      <th>offer_completed</th>\n",
       "      <th>reward</th>\n",
       "      <th>channels</th>\n",
       "      <th>difficulty</th>\n",
       "      <th>duration</th>\n",
       "      <th>offer_type</th>\n",
       "      <th>email</th>\n",
       "      <th>mobile</th>\n",
       "      <th>web</th>\n",
       "      <th>social</th>\n",
       "      <th>n_channel</th>\n",
       "      <th>view_rate</th>\n",
       "    </tr>\n",
       "    <tr>\n",
       "      <th>new_promo_id</th>\n",
       "      <th></th>\n",
       "      <th></th>\n",
       "      <th></th>\n",
       "      <th></th>\n",
       "      <th></th>\n",
       "      <th></th>\n",
       "      <th></th>\n",
       "      <th></th>\n",
       "      <th></th>\n",
       "      <th></th>\n",
       "      <th></th>\n",
       "      <th></th>\n",
       "      <th></th>\n",
       "      <th></th>\n",
       "    </tr>\n",
       "  </thead>\n",
       "  <tbody>\n",
       "    <tr>\n",
       "      <th>0</th>\n",
       "      <td>7668.0</td>\n",
       "      <td>2663.0</td>\n",
       "      <td>3420.0</td>\n",
       "      <td>5</td>\n",
       "      <td>[web, email]</td>\n",
       "      <td>20</td>\n",
       "      <td>10</td>\n",
       "      <td>discount</td>\n",
       "      <td>True</td>\n",
       "      <td>False</td>\n",
       "      <td>True</td>\n",
       "      <td>False</td>\n",
       "      <td>2</td>\n",
       "      <td>0.347287</td>\n",
       "    </tr>\n",
       "    <tr>\n",
       "      <th>1</th>\n",
       "      <td>7646.0</td>\n",
       "      <td>7337.0</td>\n",
       "      <td>5156.0</td>\n",
       "      <td>3</td>\n",
       "      <td>[web, email, mobile, social]</td>\n",
       "      <td>7</td>\n",
       "      <td>7</td>\n",
       "      <td>discount</td>\n",
       "      <td>True</td>\n",
       "      <td>True</td>\n",
       "      <td>True</td>\n",
       "      <td>True</td>\n",
       "      <td>4</td>\n",
       "      <td>0.959587</td>\n",
       "    </tr>\n",
       "    <tr>\n",
       "      <th>2</th>\n",
       "      <td>7632.0</td>\n",
       "      <td>4118.0</td>\n",
       "      <td>4017.0</td>\n",
       "      <td>2</td>\n",
       "      <td>[web, email, mobile]</td>\n",
       "      <td>10</td>\n",
       "      <td>7</td>\n",
       "      <td>discount</td>\n",
       "      <td>True</td>\n",
       "      <td>True</td>\n",
       "      <td>True</td>\n",
       "      <td>False</td>\n",
       "      <td>3</td>\n",
       "      <td>0.539570</td>\n",
       "    </tr>\n",
       "    <tr>\n",
       "      <th>3</th>\n",
       "      <td>7617.0</td>\n",
       "      <td>4144.0</td>\n",
       "      <td>0.0</td>\n",
       "      <td>0</td>\n",
       "      <td>[web, email, mobile]</td>\n",
       "      <td>0</td>\n",
       "      <td>4</td>\n",
       "      <td>informational</td>\n",
       "      <td>True</td>\n",
       "      <td>True</td>\n",
       "      <td>True</td>\n",
       "      <td>False</td>\n",
       "      <td>3</td>\n",
       "      <td>0.544046</td>\n",
       "    </tr>\n",
       "    <tr>\n",
       "      <th>4</th>\n",
       "      <td>7593.0</td>\n",
       "      <td>7298.0</td>\n",
       "      <td>3331.0</td>\n",
       "      <td>10</td>\n",
       "      <td>[web, email, mobile, social]</td>\n",
       "      <td>10</td>\n",
       "      <td>5</td>\n",
       "      <td>bogo</td>\n",
       "      <td>True</td>\n",
       "      <td>True</td>\n",
       "      <td>True</td>\n",
       "      <td>True</td>\n",
       "      <td>4</td>\n",
       "      <td>0.961148</td>\n",
       "    </tr>\n",
       "    <tr>\n",
       "      <th>5</th>\n",
       "      <td>7618.0</td>\n",
       "      <td>6687.0</td>\n",
       "      <td>0.0</td>\n",
       "      <td>0</td>\n",
       "      <td>[email, mobile, social]</td>\n",
       "      <td>0</td>\n",
       "      <td>3</td>\n",
       "      <td>informational</td>\n",
       "      <td>True</td>\n",
       "      <td>True</td>\n",
       "      <td>False</td>\n",
       "      <td>True</td>\n",
       "      <td>3</td>\n",
       "      <td>0.877789</td>\n",
       "    </tr>\n",
       "    <tr>\n",
       "      <th>6</th>\n",
       "      <td>7677.0</td>\n",
       "      <td>4171.0</td>\n",
       "      <td>4354.0</td>\n",
       "      <td>5</td>\n",
       "      <td>[web, email, mobile]</td>\n",
       "      <td>5</td>\n",
       "      <td>7</td>\n",
       "      <td>bogo</td>\n",
       "      <td>True</td>\n",
       "      <td>True</td>\n",
       "      <td>True</td>\n",
       "      <td>False</td>\n",
       "      <td>3</td>\n",
       "      <td>0.543311</td>\n",
       "    </tr>\n",
       "    <tr>\n",
       "      <th>7</th>\n",
       "      <td>7658.0</td>\n",
       "      <td>6716.0</td>\n",
       "      <td>3688.0</td>\n",
       "      <td>10</td>\n",
       "      <td>[email, mobile, social]</td>\n",
       "      <td>10</td>\n",
       "      <td>7</td>\n",
       "      <td>bogo</td>\n",
       "      <td>True</td>\n",
       "      <td>True</td>\n",
       "      <td>False</td>\n",
       "      <td>True</td>\n",
       "      <td>3</td>\n",
       "      <td>0.876991</td>\n",
       "    </tr>\n",
       "    <tr>\n",
       "      <th>8</th>\n",
       "      <td>7571.0</td>\n",
       "      <td>7264.0</td>\n",
       "      <td>4296.0</td>\n",
       "      <td>5</td>\n",
       "      <td>[web, email, mobile, social]</td>\n",
       "      <td>5</td>\n",
       "      <td>5</td>\n",
       "      <td>bogo</td>\n",
       "      <td>True</td>\n",
       "      <td>True</td>\n",
       "      <td>True</td>\n",
       "      <td>True</td>\n",
       "      <td>4</td>\n",
       "      <td>0.959451</td>\n",
       "    </tr>\n",
       "    <tr>\n",
       "      <th>9</th>\n",
       "      <td>7597.0</td>\n",
       "      <td>7327.0</td>\n",
       "      <td>5317.0</td>\n",
       "      <td>2</td>\n",
       "      <td>[web, email, mobile, social]</td>\n",
       "      <td>10</td>\n",
       "      <td>10</td>\n",
       "      <td>discount</td>\n",
       "      <td>True</td>\n",
       "      <td>True</td>\n",
       "      <td>True</td>\n",
       "      <td>True</td>\n",
       "      <td>4</td>\n",
       "      <td>0.964460</td>\n",
       "    </tr>\n",
       "  </tbody>\n",
       "</table>\n",
       "</div>"
      ],
      "text/plain": [
       "              offer_received  offer_viewed  offer_completed  reward  \\\n",
       "new_promo_id                                                          \n",
       "0                     7668.0        2663.0           3420.0       5   \n",
       "1                     7646.0        7337.0           5156.0       3   \n",
       "2                     7632.0        4118.0           4017.0       2   \n",
       "3                     7617.0        4144.0              0.0       0   \n",
       "4                     7593.0        7298.0           3331.0      10   \n",
       "5                     7618.0        6687.0              0.0       0   \n",
       "6                     7677.0        4171.0           4354.0       5   \n",
       "7                     7658.0        6716.0           3688.0      10   \n",
       "8                     7571.0        7264.0           4296.0       5   \n",
       "9                     7597.0        7327.0           5317.0       2   \n",
       "\n",
       "                                  channels  difficulty  duration  \\\n",
       "new_promo_id                                                       \n",
       "0                             [web, email]          20        10   \n",
       "1             [web, email, mobile, social]           7         7   \n",
       "2                     [web, email, mobile]          10         7   \n",
       "3                     [web, email, mobile]           0         4   \n",
       "4             [web, email, mobile, social]          10         5   \n",
       "5                  [email, mobile, social]           0         3   \n",
       "6                     [web, email, mobile]           5         7   \n",
       "7                  [email, mobile, social]          10         7   \n",
       "8             [web, email, mobile, social]           5         5   \n",
       "9             [web, email, mobile, social]          10        10   \n",
       "\n",
       "                 offer_type  email  mobile    web  social  n_channel  \\\n",
       "new_promo_id                                                           \n",
       "0                  discount   True   False   True   False          2   \n",
       "1                  discount   True    True   True    True          4   \n",
       "2                  discount   True    True   True   False          3   \n",
       "3             informational   True    True   True   False          3   \n",
       "4                      bogo   True    True   True    True          4   \n",
       "5             informational   True    True  False    True          3   \n",
       "6                      bogo   True    True   True   False          3   \n",
       "7                      bogo   True    True  False    True          3   \n",
       "8                      bogo   True    True   True    True          4   \n",
       "9                  discount   True    True   True    True          4   \n",
       "\n",
       "              view_rate  \n",
       "new_promo_id             \n",
       "0              0.347287  \n",
       "1              0.959587  \n",
       "2              0.539570  \n",
       "3              0.544046  \n",
       "4              0.961148  \n",
       "5              0.877789  \n",
       "6              0.543311  \n",
       "7              0.876991  \n",
       "8              0.959451  \n",
       "9              0.964460  "
      ]
     },
     "execution_count": 179,
     "metadata": {},
     "output_type": "execute_result"
    }
   ],
   "source": [
    "aggri_offer.set_index('new_promo_id')"
   ]
  },
  {
   "cell_type": "code",
   "execution_count": 184,
   "metadata": {},
   "outputs": [
    {
     "data": {
      "text/plain": [
       "<matplotlib.axes._subplots.AxesSubplot at 0x2eeed949808>"
      ]
     },
     "execution_count": 184,
     "metadata": {},
     "output_type": "execute_result"
    },
    {
     "data": {
      "image/png": "[encoded data removed]",
      "text/plain": [
       "<Figure size 432x288 with 1 Axes>"
      ]
     },
     "metadata": {
      "needs_background": "light"
     },
     "output_type": "display_data"
    }
   ],
   "source": [
    "aggri_offer['view_rate'].plot(kind='bar')"
   ]
  },
  {
   "cell_type": "markdown",
   "metadata": {},
   "source": [
    "## Approach"
   ]
  },
  {
   "cell_type": "markdown",
   "metadata": {},
   "source": [
    "Lets use machine learning to predict whether the combination of user and the promotion will be viewed or not. \n",
    "\n",
    "here, X = all the features of the users and promotiosn \n",
    "Y = is whether the offer is viewed or not\n",
    "\n",
    "Use Random Forest classifier considering the function can be non-linear \n"
   ]
  },
  {
   "cell_type": "code",
   "execution_count": 225,
   "metadata": {},
   "outputs": [
    {
     "name": "stdout",
     "output_type": "stream",
     "text": [
      "                          offer_received  offer_viewed  offer_completed  \\\n",
      "new_promo_id new_user_id                                                  \n",
      "0            2                       1.0             1              1.0   \n",
      "             5                       1.0             0              1.0   \n",
      "             6                       1.0             0              0.0   \n",
      "             10                      1.0             0              1.0   \n",
      "             11                      1.0             1              0.0   \n",
      "...                                  ...           ...              ...   \n",
      "9            16994                   1.0             1              1.0   \n",
      "             16995                   1.0             1              1.0   \n",
      "             16996                   2.0             1              2.0   \n",
      "             16997                   1.0             1              0.0   \n",
      "             16999                   1.0             1              1.0   \n",
      "\n",
      "                          reward  difficulty  duration  email  mobile   web  \\\n",
      "new_promo_id new_user_id                                                      \n",
      "0            2                 5          20        10   True   False  True   \n",
      "             5                 5          20        10   True   False  True   \n",
      "             6                 5          20        10   True   False  True   \n",
      "             10                5          20        10   True   False  True   \n",
      "             11                5          20        10   True   False  True   \n",
      "...                          ...         ...       ...    ...     ...   ...   \n",
      "9            16994             2          10        10   True    True  True   \n",
      "             16995             2          10        10   True    True  True   \n",
      "             16996             2          10        10   True    True  True   \n",
      "             16997             2          10        10   True    True  True   \n",
      "             16999             2          10        10   True    True  True   \n",
      "\n",
      "                          social  n_channel   bogo  informational  discount  \\\n",
      "new_promo_id new_user_id                                                      \n",
      "0            2             False          2  False          False      True   \n",
      "             5             False          2  False          False      True   \n",
      "             6             False          2  False          False      True   \n",
      "             10            False          2  False          False      True   \n",
      "             11            False          2  False          False      True   \n",
      "...                          ...        ...    ...            ...       ...   \n",
      "9            16994          True          4  False          False      True   \n",
      "             16995          True          4  False          False      True   \n",
      "             16996          True          4  False          False      True   \n",
      "             16997          True          4  False          False      True   \n",
      "             16999          True          4  False          False      True   \n",
      "\n",
      "                          age  became_member_on   income  gender_F  gender_M  \\\n",
      "new_promo_id new_user_id                                                       \n",
      "0            2             40          20180109  57000.0         0         0   \n",
      "             5             26          20170621  73000.0         1         0   \n",
      "             6             19          20160809  65000.0         1         0   \n",
      "             10            54          20160821  91000.0         0         1   \n",
      "             11           118          20180615      0.0         0         0   \n",
      "...                       ...               ...      ...       ...       ...   \n",
      "9            16994         59          20170831  93000.0         1         0   \n",
      "             16995         69          20150920  83000.0         1         0   \n",
      "             16996         71          20171031  73000.0         0         1   \n",
      "             16997         71          20180218  56000.0         0         1   \n",
      "             16999         45          20161125  62000.0         1         0   \n",
      "\n",
      "                          gender_O  \n",
      "new_promo_id new_user_id            \n",
      "0            2                   1  \n",
      "             5                   0  \n",
      "             6                   0  \n",
      "             10                  0  \n",
      "             11                  0  \n",
      "...                            ...  \n",
      "9            16994               0  \n",
      "             16995               0  \n",
      "             16996               0  \n",
      "             16997               0  \n",
      "             16999               0  \n",
      "\n",
      "[63288 rows x 20 columns]\n"
     ]
    }
   ],
   "source": [
    "respo_integ = respo.join(portfolio.set_index('id'), on='offer_id').drop(['offer_id', 'channels', 'offer_type'], axis=1)\n",
    "respo_integ = respo_integ.join(profile.set_index('id'), on='person').drop('person', axis=1).set_index(['new_promo_id', 'new_user_id'])\n",
    "respo_integ = pd.get_dummies(respo_integ)\n",
    "respo_integ = respo_integ.fillna(0)\n",
    "respo_integ['offer_viewed'] = respo_integ['offer_viewed'].apply(lambda x: 1 if x > 0 else 0)\n",
    "print(respo_integ)"
   ]
  },
  {
   "cell_type": "markdown",
   "metadata": {},
   "source": [
    "## Analysis"
   ]
  },
  {
   "cell_type": "code",
   "execution_count": 242,
   "metadata": {},
   "outputs": [
    {
     "name": "stdout",
     "output_type": "stream",
     "text": [
      "(63288, 19) (63288,)\n"
     ]
    }
   ],
   "source": [
    "X = respo_integ.drop('offer_viewed', axis=1)\n",
    "y = respo_integ['offer_viewed']\n",
    "print(X.shape, y.shape)"
   ]
  },
  {
   "cell_type": "code",
   "execution_count": 243,
   "metadata": {},
   "outputs": [],
   "source": [
    "from sklearn.model_selection import train_test_split"
   ]
  },
  {
   "cell_type": "code",
   "execution_count": 244,
   "metadata": {},
   "outputs": [],
   "source": [
    "X_train, X_test, y_train, y_test = train_test_split( X, y, test_size=0.33, random_state=42)"
   ]
  },
  {
   "cell_type": "code",
   "execution_count": 255,
   "metadata": {
    "scrolled": true
   },
   "outputs": [
    {
     "data": {
      "text/plain": [
       "LogisticRegression(C=1.0, class_weight=None, dual=False, fit_intercept=True,\n",
       "                   intercept_scaling=1, l1_ratio=None, max_iter=100,\n",
       "                   multi_class='auto', n_jobs=None, penalty='l2',\n",
       "                   random_state=0, solver='lbfgs', tol=0.0001, verbose=0,\n",
       "                   warm_start=False)"
      ]
     },
     "execution_count": 255,
     "metadata": {},
     "output_type": "execute_result"
    }
   ],
   "source": [
    "from sklearn.ensemble import RandomForestClassifier\n",
    "from sklearn.linear_model import LogisticRegression\n",
    "\n",
    "#clf = RandomForestClassifier(max_depth=5, random_state=0)\n",
    "clf = LogisticRegression(random_state=0)\n",
    "clf.fit(X_train, y_train)"
   ]
  },
  {
   "cell_type": "markdown",
   "metadata": {},
   "source": [
    "## Results Evaluation"
   ]
  },
  {
   "cell_type": "code",
   "execution_count": 256,
   "metadata": {},
   "outputs": [],
   "source": [
    "pred = clf.predict(X_test)"
   ]
  },
  {
   "cell_type": "code",
   "execution_count": 257,
   "metadata": {},
   "outputs": [
    {
     "name": "stdout",
     "output_type": "stream",
     "text": [
      "20886 20886\n"
     ]
    }
   ],
   "source": [
    "print(pred.sum(), len(pred))"
   ]
  },
  {
   "cell_type": "code",
   "execution_count": 258,
   "metadata": {},
   "outputs": [
    {
     "name": "stdout",
     "output_type": "stream",
     "text": [
      "[1 1 1 ... 1 1 1]\n"
     ]
    }
   ],
   "source": [
    "print(pred)"
   ]
  },
  {
   "cell_type": "code",
   "execution_count": 259,
   "metadata": {},
   "outputs": [
    {
     "name": "stdout",
     "output_type": "stream",
     "text": [
      "accuracy: 0.7790385904433592\n",
      "auc: nan\n"
     ]
    },
    {
     "name": "stderr",
     "output_type": "stream",
     "text": [
      "C:\\Users\\livel\\Miniconda3\\lib\\site-packages\\sklearn\\metrics\\_ranking.py:808: UndefinedMetricWarning: No positive samples in y_true, true positive value should be meaningless\n",
      "  UndefinedMetricWarning)\n"
     ]
    }
   ],
   "source": [
    "from sklearn.metrics import accuracy_score\n",
    "from sklearn import metrics\n",
    "acc = accuracy_score(pred, y_test)\n",
    "print('accuracy:',acc)\n",
    "\n",
    "fpr, tpr, thresholds = metrics.roc_curve(y_test, pred, pos_label=2)\n",
    "print('auc:', metrics.auc(fpr, tpr))\n"
   ]
  },
  {
   "cell_type": "code",
   "execution_count": null,
   "metadata": {},
   "outputs": [],
   "source": []
  }
 ],
 "metadata": {
  "kernelspec": {
   "display_name": "Python 3",
   "language": "python",
   "name": "python3"
  },
  "language_info": {
   "codemirror_mode": {
    "name": "ipython",
    "version": 3
   },
   "file_extension": ".py",
   "mimetype": "text/x-python",
   "name": "python",
   "nbconvert_exporter": "python",
   "pygments_lexer": "ipython3",
   "version": "3.7.4"
  }
 },
 "nbformat": 4,
 "nbformat_minor": 4
}
